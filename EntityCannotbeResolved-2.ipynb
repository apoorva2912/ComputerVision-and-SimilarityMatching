{
  "nbformat": 4,
  "nbformat_minor": 0,
  "metadata": {
    "colab": {
      "provenance": []
    },
    "kernelspec": {
      "name": "python3",
      "display_name": "Python 3"
    },
    "language_info": {
      "name": "python"
    }
  },
  "cells": [
    {
      "cell_type": "markdown",
      "source": [
        "#**Entity Resolution**"
      ],
      "metadata": {
        "id": "fp056kn95bVe"
      }
    },
    {
      "cell_type": "code",
      "execution_count": null,
      "metadata": {
        "id": "r96s4MstggPT"
      },
      "outputs": [],
      "source": [
        "#importing necessary libraries\n",
        "\n",
        "import pandas as pd\n",
        "from sklearn.model_selection import train_test_split\n",
        "from sklearn.preprocessing import StandardScaler\n",
        "from sklearn.ensemble import RandomForestClassifier\n",
        "from sklearn.metrics import classification_report\n"
      ]
    },
    {
      "cell_type": "code",
      "source": [
        "!pip3 install recordlinkage #installing recordlinkage pakage"
      ],
      "metadata": {
        "id": "q4c_mQQJggvj",
        "colab": {
          "base_uri": "https://localhost:8080/"
        },
        "outputId": "65454c83-2237-411f-f82b-cd9015d2ca5d"
      },
      "execution_count": null,
      "outputs": [
        {
          "output_type": "stream",
          "name": "stdout",
          "text": [
            "Requirement already satisfied: recordlinkage in /usr/local/lib/python3.10/dist-packages (0.16)\n",
            "Requirement already satisfied: jellyfish>=1 in /usr/local/lib/python3.10/dist-packages (from recordlinkage) (1.0.0)\n",
            "Requirement already satisfied: numpy>=1.13 in /usr/local/lib/python3.10/dist-packages (from recordlinkage) (1.23.5)\n",
            "Requirement already satisfied: pandas<3,>=1 in /usr/local/lib/python3.10/dist-packages (from recordlinkage) (1.5.3)\n",
            "Requirement already satisfied: scipy>=1 in /usr/local/lib/python3.10/dist-packages (from recordlinkage) (1.10.1)\n",
            "Requirement already satisfied: scikit-learn>=1 in /usr/local/lib/python3.10/dist-packages (from recordlinkage) (1.2.2)\n",
            "Requirement already satisfied: joblib in /usr/local/lib/python3.10/dist-packages (from recordlinkage) (1.3.2)\n",
            "Requirement already satisfied: python-dateutil>=2.8.1 in /usr/local/lib/python3.10/dist-packages (from pandas<3,>=1->recordlinkage) (2.8.2)\n",
            "Requirement already satisfied: pytz>=2020.1 in /usr/local/lib/python3.10/dist-packages (from pandas<3,>=1->recordlinkage) (2023.3)\n",
            "Requirement already satisfied: threadpoolctl>=2.0.0 in /usr/local/lib/python3.10/dist-packages (from scikit-learn>=1->recordlinkage) (3.2.0)\n",
            "Requirement already satisfied: six>=1.5 in /usr/local/lib/python3.10/dist-packages (from python-dateutil>=2.8.1->pandas<3,>=1->recordlinkage) (1.16.0)\n"
          ]
        }
      ]
    },
    {
      "cell_type": "code",
      "source": [
        "#importing recordlinkagelibraries\n",
        "from recordlinkage import Index\n",
        "from recordlinkage.compare import String\n",
        "import recordlinkage\n",
        "from recordlinkage.preprocessing import phonetic"
      ],
      "metadata": {
        "id": "qpcLK1Acy3Hv"
      },
      "execution_count": null,
      "outputs": []
    },
    {
      "cell_type": "code",
      "source": [
        "# loading data from drive\n",
        "from google.colab import drive\n",
        "drive.mount('/content/drive')"
      ],
      "metadata": {
        "id": "Tn3-RAmTggyB",
        "colab": {
          "base_uri": "https://localhost:8080/"
        },
        "outputId": "3e08ee51-ac1e-419f-835c-0c49e025df16"
      },
      "execution_count": null,
      "outputs": [
        {
          "output_type": "stream",
          "name": "stdout",
          "text": [
            "Drive already mounted at /content/drive; to attempt to forcibly remount, call drive.mount(\"/content/drive\", force_remount=True).\n"
          ]
        }
      ]
    },
    {
      "cell_type": "code",
      "source": [
        "#Reading Credit Bureau Data\n",
        "originalDataT = pd.read_excel('/content/drive/MyDrive/entityRes/Customer Demographics - Credit Bureau.xlsx')"
      ],
      "metadata": {
        "id": "hC8k-Pohgg0S"
      },
      "execution_count": null,
      "outputs": []
    },
    {
      "cell_type": "code",
      "source": [
        "#Reading Training/Testing Data\n",
        "TrainData = pd.read_excel('/content/drive/MyDrive/entityRes/Training/Training Data.xlsx')\n",
        "TrainGT = pd.read_excel('/content/drive/MyDrive/entityRes/Training/Training Data - Ground Truth.xlsx',)\n",
        "TestData = pd.read_excel('/content/drive/MyDrive/entityRes/Test/Test Data.xlsx')\n",
        "TestGT = pd.read_excel('/content/drive/MyDrive/entityRes/Test/Test Data - Ground Truth.xlsx')\n",
        "Val = pd.read_excel('/content/drive/MyDrive/entityRes/Validation/Validation Data.xlsx')"
      ],
      "metadata": {
        "id": "Bgpvb0Uzgg2o"
      },
      "execution_count": null,
      "outputs": []
    },
    {
      "cell_type": "code",
      "source": [
        "from datetime import datetime\n",
        "\n",
        "def detect_date_format(date_str):\n",
        "    formats_to_try = [\n",
        "        \"%Y-%m-%d %H:%M:%S\",\n",
        "        \"%Y-%m-%d\",\n",
        "        \"%m/%d/%Y\",\n",
        "        \"%d/%m/%Y\",\n",
        "        \"%m-%d-%Y\",\n",
        "        \"%d-%m-%Y\",\n",
        "    ]\n",
        "\n",
        "    for date_format in formats_to_try:\n",
        "        try:\n",
        "            parsed_date = datetime.strptime(date_str, date_format)\n",
        "            return date_format\n",
        "        except ValueError:\n",
        "            pass\n",
        "\n",
        "    return None  # If the format couldn't be detected\n",
        "\n",
        "\n",
        "def convert_date_format(input_date):\n",
        "  try:\n",
        "\n",
        " # Parse the input date string into a datetime object\n",
        "    format = detect_date_format(input_date)\n",
        "    if(format):\n",
        "      datetime_obj = datetime.strptime(input_date,format)# '%Y-%m-%d %H:%M:%S')\n",
        "    else:\n",
        "      datetime_obj = datetime.strptime(input_date,'%Y-%m-%d %H:%M:%S')\n",
        "\n",
        "    # Format the datetime object into the desired format\n",
        "    formatted_date = datetime_obj.strftime('%Y-%m-%d %H:%M:%S')\n",
        "\n",
        "    return formatted_date\n",
        "  except ValueError:\n",
        "        # Handle cases where the input does not match the expected format\n",
        "        return input_date"
      ],
      "metadata": {
        "id": "71vl0euIzrRA"
      },
      "execution_count": null,
      "outputs": []
    },
    {
      "cell_type": "code",
      "source": [
        "# Selecting Necesaary columns\n",
        "TrainData['DOB'] = TrainData['DOB'].apply(lambda x: convert_date_format(str(x)))\n",
        "columns_list = TrainData.columns.tolist()\n",
        "\n",
        "Train = TrainData[['Cust ID', 'First Name', 'Last Name','Address Line 1','City', 'State', 'Zip', 'DOB']]\n",
        "Test = TestData[['Cust ID', 'First Name', 'Last Name','Address Line 1','City', 'State', 'Zip', 'DOB']]\n",
        "Val = Val[['Cust ID', 'First Name', 'Last Name','Address Line 1','City', 'State', 'Zip', 'DOB']]\n",
        "\n",
        "originalData = originalDataT[['id', 'first_name', 'last_name','addr 1', 'addr 2', 'city', 'state', 'zip', 'DOB']]"
      ],
      "metadata": {
        "id": "c1oGNPggoMq9"
      },
      "execution_count": null,
      "outputs": []
    },
    {
      "cell_type": "code",
      "source": [
        "print(TrainData['DOB'] )# My fuction is not working. I am at my wits end to find the issue"
      ],
      "metadata": {
        "colab": {
          "base_uri": "https://localhost:8080/"
        },
        "id": "nVKfwJyr0KAO",
        "outputId": "f056db93-f20c-4076-b6f8-80d691482c5e"
      },
      "execution_count": null,
      "outputs": [
        {
          "output_type": "stream",
          "name": "stdout",
          "text": [
            "0                           nan\n",
            "1      Friday, Febraury 5, 1965\n",
            "2           1983-03-15 00:00:00\n",
            "3           2023-01-01 00:00:00\n",
            "4           1981-01-01 00:00:00\n",
            "                 ...           \n",
            "155         1957-08-15 00:00:00\n",
            "156         1948-12-31 00:00:00\n",
            "157         1967-01-12 00:00:00\n",
            "158         1999-01-12 00:00:00\n",
            "159         1992-01-12 00:00:00\n",
            "Name: DOB, Length: 160, dtype: object\n"
          ]
        }
      ]
    },
    {
      "cell_type": "code",
      "source": [
        "# matching with input data to train the model\n",
        "train = TrainData.merge(TrainGT,on ='Cust ID')#left_on='Cust ID',right_on = 'Cust ID')\n",
        "train.head()\n",
        "train = train.merge(originalDataT,left_on='Credit Bureau ID',right_on='id')\n",
        "train.head()\n",
        "print(train.columns.tolist())"
      ],
      "metadata": {
        "colab": {
          "base_uri": "https://localhost:8080/"
        },
        "id": "tKMLF_EI2ZUF",
        "outputId": "c6213832-005c-4f7a-fb1c-d51d1d44f418"
      },
      "execution_count": null,
      "outputs": [
        {
          "output_type": "stream",
          "name": "stdout",
          "text": [
            "['Cust ID', 'First Name', 'Middle Name', 'Last Name', 'Prefix', 'Suffix', 'Address Line 1', 'Address Line 2', 'City', 'State', 'Zip', 'DOB_x', 'Credit Bureau ID', 'id', 'first_name', 'Middle name', 'last_name', 'prefix', 'suffix', 'addr 1', 'addr 2', 'city', 'state', 'zip', 'DOB_y']\n"
          ]
        }
      ]
    },
    {
      "cell_type": "code",
      "source": [
        "def jaccard_similarity(str1, str2):\n",
        "    set1 = set(str1)\n",
        "    set2 = set(str2)\n",
        "    intersection = len(set1.intersection(set2))\n",
        "    union = len(set1) + len(set2) - intersection\n",
        "    similarity = intersection / union\n",
        "    return similarity\n"
      ],
      "metadata": {
        "id": "3-7eWFnx2Zdl"
      },
      "execution_count": null,
      "outputs": []
    },
    {
      "cell_type": "code",
      "source": [
        "#Calculation Similarity\n",
        "\n",
        "jaccard_similarity_val1 = train.apply(lambda row: jaccard_similarity(row['First Name'], row['first_name']), axis=1)\n",
        "jaccard_similarity_val2 = train.apply(lambda row: jaccard_similarity(row['Last Name'], row['last_name']), axis=1)\n",
        "#jaccard_similarity_val4 = train.apply(lambda row: jaccard_similarity(row['City'], row['city']), axis=1)\n",
        "#jaccard_similarity_val5 = train.apply(lambda row: jaccard_similarity(row['State'], row['state']), axis=1)\n",
        "\n",
        "jaccard_similarity_first =  jaccard_similarity_val1.sum()/len(jaccard_similarity_val1)\n",
        "jaccard_similarity_last =  jaccard_similarity_val2.sum()/len(jaccard_similarity_val2)"
      ],
      "metadata": {
        "id": "074Kzcfi3yay"
      },
      "execution_count": null,
      "outputs": []
    },
    {
      "cell_type": "code",
      "source": [
        "# changing index to match on index\n",
        "Train.set_index('Cust ID', inplace=True)\n",
        "originalData.set_index('id', inplace=True)\n",
        "\n",
        "# Remove the 'ID' column from both DataFrames\n",
        "#Train.drop(columns=['Cust ID'], inplace=True)\n",
        "#originalData.drop(columns=['id'], inplace=True)\n",
        "\n"
      ],
      "metadata": {
        "id": "mo-nE231gg5H"
      },
      "execution_count": null,
      "outputs": []
    },
    {
      "cell_type": "code",
      "source": [],
      "metadata": {
        "id": "CfPen3X8yc3h"
      },
      "execution_count": null,
      "outputs": []
    },
    {
      "cell_type": "code",
      "source": [
        "\n",
        "from recordlinkage.index import Block\n",
        "\n",
        "# Add a phonetic version of the first and last names to the two datasets\n",
        "Train[\"phonetic_given_name\"] = phonetic(Train[\"First Name\"], \"soundex\")\n",
        "originalData[\"phonetic_given_name\"] = phonetic(originalData[\"first_name\"], \"soundex\")\n",
        "\n",
        "Train[\"phonetic_last_name\"] = phonetic(Train[\"Last Name\"], \"soundex\")\n",
        "originalData[\"phonetic_last_name\"] = phonetic(originalData[\"last_name\"], \"soundex\")\n",
        "\n",
        "Train[\"phonetic_city\"] = phonetic(Train[\"City\"], \"soundex\")\n",
        "originalData[\"phonetic_city\"] = phonetic(originalData[\"city\"], \"soundex\")\n",
        "\n",
        "Train[\"phonetic_state\"] = phonetic(Train[\"State\"], \"soundex\")\n",
        "originalData[\"phonetic_state\"] = phonetic(originalData[\"state\"], \"soundex\")\n",
        "\n",
        "#Train[\"initials\"] = (Train[\"First Name\"].str[0] + Train[\"Last Name\"].str[0])\n",
        "#originalData[\"initials\"] = (originalData[\"first_name\"].str[0] + originalData[\"last_name\"].str[0])\n",
        "\n",
        "\n",
        "indexer = recordlinkage.Index()\n",
        "#indexer.block(\"initials\")\n",
        "indexer.add(Block('phonetic_given_name', 'phonetic_given_name'))\n",
        "indexer.add(Block('phonetic_last_name', 'phonetic_last_name'))\n",
        "candidate_links = indexer.index(Train,originalData)\n",
        "\n",
        "print(len(candidate_links))"
      ],
      "metadata": {
        "id": "YKHpc5zNhzm3",
        "colab": {
          "base_uri": "https://localhost:8080/"
        },
        "outputId": "a59ca64c-b7ab-4603-e123-778c655605f8"
      },
      "execution_count": null,
      "outputs": [
        {
          "output_type": "stream",
          "name": "stdout",
          "text": [
            "47217\n"
          ]
        }
      ]
    },
    {
      "cell_type": "code",
      "source": [],
      "metadata": {
        "id": "58924mZzDmZI"
      },
      "execution_count": null,
      "outputs": []
    },
    {
      "cell_type": "code",
      "source": [
        "# Overall Algorithms needs more study and research to improve performance."
      ],
      "metadata": {
        "id": "awdb_YWE_0yo"
      },
      "execution_count": null,
      "outputs": []
    },
    {
      "cell_type": "code",
      "source": [
        "# Compare records using the Jaro-Winkler similarity on the 'Name' column\n",
        "compare = recordlinkage.Compare()\n",
        "\n",
        "compare.string('First Name', 'first_name', method='jarowinkler',threshold=(jaccard_similarity_first+0.5),label=\"first_name\")\n",
        "compare.string('Last Name', 'last_name', method='jarowinkler',threshold=(jaccard_similarity_last+.5),label=\"last_name\")\n",
        "\n",
        "compare.exact('phonetic_given_name', 'phonetic_given_name', label=\"phonetic_given_name\")\n",
        "compare.exact('phonetic_last_name', 'phonetic_last_name', label='phonetic_surname')\n",
        "\n",
        "compare.string('Address Line 1','addr 1', method='jarowinkler',threshold=0.65,label=\"address\")\n",
        "compare.string('City', 'city', method='jarowinkler',threshold=0.85,label=\"city\")\n",
        "compare.string('State','state', method='jarowinkler',threshold=0.85,label=\"state\")\n",
        "\n",
        "#compare.exact('phonetic_city', 'phonetic_city', label=\"phonetic_city\")\n",
        "#compare.exact('phonetic_state', 'phonetic_state', label='phonetic_state')\n",
        "\n",
        "# Compute the potential matches\n",
        "features = compare.compute(candidate_links, Train,originalData)\n",
        "index = pd.MultiIndex.from_frame(TrainGT, names=['ID_1', 'ID_2'])"
      ],
      "metadata": {
        "id": "TCZTDMeYplcU"
      },
      "execution_count": null,
      "outputs": []
    },
    {
      "cell_type": "code",
      "source": [
        "print(features.sum(axis=1).value_counts().sort_index(ascending=False))\n",
        "#Counting score for each"
      ],
      "metadata": {
        "id": "kF7Zmx788xou",
        "colab": {
          "base_uri": "https://localhost:8080/"
        },
        "outputId": "e1e7f24c-20b1-4794-8f0a-4795640a8cf6"
      },
      "execution_count": null,
      "outputs": [
        {
          "output_type": "stream",
          "name": "stdout",
          "text": [
            "5.0        1\n",
            "4.0       45\n",
            "3.0      133\n",
            "2.0     1391\n",
            "1.0    45647\n",
            "dtype: int64\n"
          ]
        }
      ]
    },
    {
      "cell_type": "code",
      "source": [
        "potential_matches = features[features.sum(axis=1) > 1]#removing optins with less score\n",
        "#potential_matches['Score'] = potential_matches.loc[:, 'phonetic_given_name':'phonetic_surname'].sum(axis=1)\n",
        "print(potential_matches)"
      ],
      "metadata": {
        "colab": {
          "base_uri": "https://localhost:8080/"
        },
        "id": "x506JYJr93uj",
        "outputId": "9c5f453c-926d-4a86-8ea4-c34bf2532dba"
      },
      "execution_count": null,
      "outputs": [
        {
          "output_type": "stream",
          "name": "stdout",
          "text": [
            "                  first_name  last_name  phonetic_given_name  \\\n",
            "Cust ID    id                                                  \n",
            "CustID_001 91632         0.0        0.0                    1   \n",
            "CustID_002 51253         0.0        0.0                    1   \n",
            "           52441         0.0        0.0                    1   \n",
            "CustID_006 68911         0.0        0.0                    1   \n",
            "CustID_007 91632         0.0        0.0                    1   \n",
            "...                      ...        ...                  ...   \n",
            "CustID_298 65526         0.0        0.0                    1   \n",
            "           65541         0.0        0.0                    1   \n",
            "           65570         0.0        0.0                    1   \n",
            "           66065         0.0        0.0                    1   \n",
            "           67789         0.0        0.0                    1   \n",
            "\n",
            "                  phonetic_surname  address  city  state  \n",
            "Cust ID    id                                             \n",
            "CustID_001 91632                 1      0.0   0.0    0.0  \n",
            "CustID_002 51253                 1      0.0   0.0    0.0  \n",
            "           52441                 1      0.0   0.0    0.0  \n",
            "CustID_006 68911                 1      0.0   0.0    0.0  \n",
            "CustID_007 91632                 1      0.0   0.0    0.0  \n",
            "...                            ...      ...   ...    ...  \n",
            "CustID_298 65526                 0      0.0   1.0    0.0  \n",
            "           65541                 0      1.0   0.0    0.0  \n",
            "           65570                 0      0.0   1.0    1.0  \n",
            "           66065                 0      0.0   0.0    1.0  \n",
            "           67789                 0      0.0   1.0    0.0  \n",
            "\n",
            "[1570 rows x 7 columns]\n"
          ]
        }
      ]
    },
    {
      "cell_type": "code",
      "source": [
        "# Try all scores 0 to 7 in order to see the effect on precision and recall...\n",
        "for i in range(5):\n",
        "    matches = features[features.sum(axis=1) > i]\n",
        "    pre = recordlinkage.precision(index, matches)\n",
        "    rcl = recordlinkage.recall(index, matches)\n",
        "    print(\"when score is \" + str(i) + \" precision is \" + str(pre) + \" and recall is \" + str(rcl))"
      ],
      "metadata": {
        "colab": {
          "base_uri": "https://localhost:8080/"
        },
        "id": "8hFPHB4wtRQa",
        "outputId": "52536809-50d5-4063-c143-b25111a61ee6"
      },
      "execution_count": null,
      "outputs": [
        {
          "output_type": "stream",
          "name": "stdout",
          "text": [
            "when score is 0 precision is 0.002583815151322617 and recall is 0.7625\n",
            "when score is 1 precision is 0.05605095541401274 and recall is 0.55\n",
            "when score is 2 precision is 0.329608938547486 and recall is 0.36875\n",
            "when score is 3 precision is 0.6304347826086957 and recall is 0.18125\n",
            "when score is 4 precision is 1.0 and recall is 0.00625\n"
          ]
        }
      ]
    },
    {
      "cell_type": "code",
      "source": [
        "# Select and print the matches\n",
        "#matches = potential_matches[potential_matches.sum(axis=1) >= 2]\n",
        "#print(\"Potential Matches:\",matches)\n",
        "classifier = recordlinkage.LogisticRegressionClassifier()\n",
        "classifier.fit(potential_matches,match_index=index)"
      ],
      "metadata": {
        "id": "5HzRpuyxplfH"
      },
      "execution_count": null,
      "outputs": []
    },
    {
      "cell_type": "code",
      "source": [],
      "metadata": {
        "id": "8Yf4Cb8Zrv-C"
      },
      "execution_count": null,
      "outputs": []
    },
    {
      "cell_type": "code",
      "source": [
        "# Predict the matches\n",
        "predicted_matches = classifier.predict(potential_matches)\n",
        "\n",
        "\n",
        "# Print the predicted matches\n",
        "print(\"\\nPredicted Matches:\")\n",
        "#print(predicted_matches)\n",
        "print(\"precision: \" + str(recordlinkage.precision(index, predicted_matches)))\n",
        "print(\"recall: \" + str(recordlinkage.recall(index, predicted_matches)))\n",
        "\n",
        "#\n",
        "\n",
        "F1score = 2 * (recordlinkage.precision(index, predicted_matches) * recordlinkage.recall(index, predicted_matches)) / (recordlinkage.precision(index, predicted_matches)+ recordlinkage.recall(index, predicted_matches))\n",
        "\n",
        "print(\"F1-Score: \" + str(F1score))\n"
      ],
      "metadata": {
        "colab": {
          "base_uri": "https://localhost:8080/"
        },
        "id": "e0xPaFZeplhp",
        "outputId": "f5a2a73f-9e66-4835-8f43-102b20de29af"
      },
      "execution_count": null,
      "outputs": [
        {
          "output_type": "stream",
          "name": "stdout",
          "text": [
            "\n",
            "Predicted Matches:\n",
            "precision: 0.782608695652174\n",
            "recall: 0.1125\n",
            "F1-Score: 0.19672131147540983\n"
          ]
        }
      ]
    },
    {
      "cell_type": "code",
      "source": [
        "\n",
        "import csv\n",
        "with open('/content/linkageTrain.csv', mode='w', newline='') as file:\n",
        "    writer = csv.writer(file)\n",
        "    writer.writerows(predicted_matches)"
      ],
      "metadata": {
        "id": "y8URy8lzKC0R"
      },
      "execution_count": null,
      "outputs": []
    },
    {
      "cell_type": "code",
      "source": [
        "clasifier2 = recordlinkage.SVMClassifier()\n",
        "clasifier2.fit(potential_matches, index)\n",
        "predictions = clasifier2.predict(potential_matches)\n",
        "\n",
        "print(\"precision: \" + str(recordlinkage.precision(index, predictions)))\n",
        "print(\"recall: \" + str(recordlinkage.recall(index, predictions)))"
      ],
      "metadata": {
        "colab": {
          "base_uri": "https://localhost:8080/"
        },
        "id": "evUdCCgEplkX",
        "outputId": "84f6e077-d3d6-42ed-d1b2-d24159a2297f"
      },
      "execution_count": null,
      "outputs": [
        {
          "output_type": "stream",
          "name": "stdout",
          "text": [
            "precision: 0.782608695652174\n",
            "recall: 0.1125\n"
          ]
        }
      ]
    },
    {
      "cell_type": "code",
      "source": [],
      "metadata": {
        "id": "PE7dF5oMDrKA"
      },
      "execution_count": null,
      "outputs": []
    },
    {
      "cell_type": "code",
      "source": [],
      "metadata": {
        "id": "pPQzQD-QG6WW"
      },
      "execution_count": null,
      "outputs": []
    },
    {
      "cell_type": "code",
      "source": [
        "\n",
        "from recordlinkage.index import Block\n",
        "\n",
        "# Add a phonetic version of the first and last names to the two datasets\n",
        "Test[\"phonetic_given_name\"] = phonetic(Test[\"First Name\"], \"soundex\")\n",
        "originalData[\"phonetic_given_name\"] = phonetic(originalData[\"first_name\"], \"soundex\")\n",
        "\n",
        "Test[\"phonetic_last_name\"] = phonetic(Test[\"Last Name\"], \"soundex\")\n",
        "originalData[\"phonetic_last_name\"] = phonetic(originalData[\"last_name\"], \"soundex\")\n",
        "\n",
        "Test[\"phonetic_city\"] = phonetic(Test[\"City\"], \"soundex\")\n",
        "originalData[\"phonetic_city\"] = phonetic(originalData[\"city\"], \"soundex\")\n",
        "\n",
        "Test[\"phonetic_state\"] = phonetic(Test[\"State\"], \"soundex\")\n",
        "originalData[\"phonetic_state\"] = phonetic(originalData[\"state\"], \"soundex\")\n",
        "\n",
        "#Test[\"initials\"] = (Test\"First Name\"].str[0] + Test[\"Last Name\"].str[0])\n",
        "#originalData[\"initials\"] = (originalData[\"first_name\"].str[0] + originalData[\"last_name\"].str[0])\n",
        "\n",
        "\n",
        "indexer = recordlinkage.Index()\n",
        "#indexer.block(\"initials\")\n",
        "indexer.add(Block('phonetic_given_name', 'phonetic_given_name'))\n",
        "indexer.add(Block('phonetic_last_name', 'phonetic_last_name'))\n",
        "candidate_links = indexer.index(Test,originalData)\n"
      ],
      "metadata": {
        "id": "LyDUDgY8DrQK"
      },
      "execution_count": null,
      "outputs": []
    },
    {
      "cell_type": "code",
      "source": [
        "features = compare.compute(candidate_links, Test,originalData)\n",
        "indexTest = pd.MultiIndex.from_frame(TestGT, names=['ID_1', 'ID_2'])"
      ],
      "metadata": {
        "id": "gdHJ1mV7DrVW"
      },
      "execution_count": null,
      "outputs": []
    },
    {
      "cell_type": "code",
      "source": [],
      "metadata": {
        "id": "ehkLE8NAFYe2"
      },
      "execution_count": null,
      "outputs": []
    },
    {
      "cell_type": "code",
      "source": [
        "potential_matches = features[features.sum(axis=1) > 0]#removing optins with less score"
      ],
      "metadata": {
        "id": "P6PMafrzDraj"
      },
      "execution_count": null,
      "outputs": []
    },
    {
      "cell_type": "code",
      "source": [],
      "metadata": {
        "id": "8fqUFNz3Drf4"
      },
      "execution_count": null,
      "outputs": []
    },
    {
      "cell_type": "code",
      "source": [
        "# Predict the matches\n",
        "predicted_matches = classifier.predict(potential_matches)\n",
        "\n",
        "\n",
        "# Print the predicted matches\n",
        "print(\"\\nPredicted Matches:\")\n",
        "#print(predicted_matches)\n",
        "print(\"precision: \" + str(recordlinkage.precision(index, predicted_matches)))\n",
        "print(\"recall: \" + str(recordlinkage.recall(index, predicted_matches)))\n",
        "\n",
        "#\n",
        "\n",
        "F1score = 2 * (recordlinkage.precision(index, predicted_matches) * recordlinkage.recall(index, predicted_matches)) / (recordlinkage.precision(index, predicted_matches)+ recordlinkage.recall(index, predicted_matches))\n",
        "\n",
        "print(\"F1-Score: \" + str(F1score))\n"
      ],
      "metadata": {
        "colab": {
          "base_uri": "https://localhost:8080/",
          "height": 344
        },
        "id": "pW7K40hDDrlO",
        "outputId": "0f4406a9-6321-4c8a-8b68-93d94879d534"
      },
      "execution_count": null,
      "outputs": [
        {
          "output_type": "stream",
          "name": "stdout",
          "text": [
            "\n",
            "Predicted Matches:\n",
            "precision: 0.0\n",
            "recall: 0.0\n"
          ]
        },
        {
          "output_type": "error",
          "ename": "ZeroDivisionError",
          "evalue": "ignored",
          "traceback": [
            "\u001b[0;31m---------------------------------------------------------------------------\u001b[0m",
            "\u001b[0;31mZeroDivisionError\u001b[0m                         Traceback (most recent call last)",
            "\u001b[0;32m<ipython-input-200-40672ae12353>\u001b[0m in \u001b[0;36m<cell line: 13>\u001b[0;34m()\u001b[0m\n\u001b[1;32m     11\u001b[0m \u001b[0;31m#\u001b[0m\u001b[0;34m\u001b[0m\u001b[0;34m\u001b[0m\u001b[0m\n\u001b[1;32m     12\u001b[0m \u001b[0;34m\u001b[0m\u001b[0m\n\u001b[0;32m---> 13\u001b[0;31m \u001b[0mF1score\u001b[0m \u001b[0;34m=\u001b[0m \u001b[0;36m2\u001b[0m \u001b[0;34m*\u001b[0m \u001b[0;34m(\u001b[0m\u001b[0mrecordlinkage\u001b[0m\u001b[0;34m.\u001b[0m\u001b[0mprecision\u001b[0m\u001b[0;34m(\u001b[0m\u001b[0mindex\u001b[0m\u001b[0;34m,\u001b[0m \u001b[0mpredicted_matches\u001b[0m\u001b[0;34m)\u001b[0m \u001b[0;34m*\u001b[0m \u001b[0mrecordlinkage\u001b[0m\u001b[0;34m.\u001b[0m\u001b[0mrecall\u001b[0m\u001b[0;34m(\u001b[0m\u001b[0mindex\u001b[0m\u001b[0;34m,\u001b[0m \u001b[0mpredicted_matches\u001b[0m\u001b[0;34m)\u001b[0m\u001b[0;34m)\u001b[0m \u001b[0;34m/\u001b[0m \u001b[0;34m(\u001b[0m\u001b[0mrecordlinkage\u001b[0m\u001b[0;34m.\u001b[0m\u001b[0mprecision\u001b[0m\u001b[0;34m(\u001b[0m\u001b[0mindex\u001b[0m\u001b[0;34m,\u001b[0m \u001b[0mpredicted_matches\u001b[0m\u001b[0;34m)\u001b[0m\u001b[0;34m+\u001b[0m \u001b[0mrecordlinkage\u001b[0m\u001b[0;34m.\u001b[0m\u001b[0mrecall\u001b[0m\u001b[0;34m(\u001b[0m\u001b[0mindex\u001b[0m\u001b[0;34m,\u001b[0m \u001b[0mpredicted_matches\u001b[0m\u001b[0;34m)\u001b[0m\u001b[0;34m)\u001b[0m\u001b[0;34m\u001b[0m\u001b[0;34m\u001b[0m\u001b[0m\n\u001b[0m\u001b[1;32m     14\u001b[0m \u001b[0;34m\u001b[0m\u001b[0m\n\u001b[1;32m     15\u001b[0m \u001b[0mprint\u001b[0m\u001b[0;34m(\u001b[0m\u001b[0;34m\"F1-Score: \"\u001b[0m \u001b[0;34m+\u001b[0m \u001b[0mstr\u001b[0m\u001b[0;34m(\u001b[0m\u001b[0mF1score\u001b[0m\u001b[0;34m)\u001b[0m\u001b[0;34m)\u001b[0m\u001b[0;34m\u001b[0m\u001b[0;34m\u001b[0m\u001b[0m\n",
            "\u001b[0;31mZeroDivisionError\u001b[0m: float division by zero"
          ]
        }
      ]
    },
    {
      "cell_type": "code",
      "source": [
        "\n",
        "predictions = clasifier2.predict(potential_matches)\n",
        "\n",
        "print(\"precision: \" + str(recordlinkage.precision(index, predictions)))\n",
        "print(\"recall: \" + str(recordlinkage.recall(index, predictions)))"
      ],
      "metadata": {
        "colab": {
          "base_uri": "https://localhost:8080/",
          "height": 225
        },
        "id": "mInwM1A2Drqy",
        "outputId": "39324fed-f547-4295-828b-e4660f569e6b"
      },
      "execution_count": null,
      "outputs": [
        {
          "output_type": "error",
          "ename": "NameError",
          "evalue": "ignored",
          "traceback": [
            "\u001b[0;31m---------------------------------------------------------------------------\u001b[0m",
            "\u001b[0;31mNameError\u001b[0m                                 Traceback (most recent call last)",
            "\u001b[0;32m<ipython-input-202-37e6d13e6fb5>\u001b[0m in \u001b[0;36m<cell line: 1>\u001b[0;34m()\u001b[0m\n\u001b[0;32m----> 1\u001b[0;31m \u001b[0mpredictions\u001b[0m \u001b[0;34m=\u001b[0m \u001b[0mclasifier2\u001b[0m\u001b[0;34m.\u001b[0m\u001b[0mpredict\u001b[0m\u001b[0;34m(\u001b[0m\u001b[0mpotential_matches\u001b[0m\u001b[0;34m)\u001b[0m\u001b[0;34m\u001b[0m\u001b[0;34m\u001b[0m\u001b[0m\n\u001b[0m\u001b[1;32m      2\u001b[0m \u001b[0;34m\u001b[0m\u001b[0m\n\u001b[1;32m      3\u001b[0m \u001b[0mprint\u001b[0m\u001b[0;34m(\u001b[0m\u001b[0;34m\"precision: \"\u001b[0m \u001b[0;34m+\u001b[0m \u001b[0mstr\u001b[0m\u001b[0;34m(\u001b[0m\u001b[0mrecordlinkage\u001b[0m\u001b[0;34m.\u001b[0m\u001b[0mprecision\u001b[0m\u001b[0;34m(\u001b[0m\u001b[0mindex\u001b[0m\u001b[0;34m,\u001b[0m \u001b[0mpredictions\u001b[0m\u001b[0;34m)\u001b[0m\u001b[0;34m)\u001b[0m\u001b[0;34m)\u001b[0m\u001b[0;34m\u001b[0m\u001b[0;34m\u001b[0m\u001b[0m\n\u001b[1;32m      4\u001b[0m \u001b[0mprint\u001b[0m\u001b[0;34m(\u001b[0m\u001b[0;34m\"recall: \"\u001b[0m \u001b[0;34m+\u001b[0m \u001b[0mstr\u001b[0m\u001b[0;34m(\u001b[0m\u001b[0mrecordlinkage\u001b[0m\u001b[0;34m.\u001b[0m\u001b[0mrecall\u001b[0m\u001b[0;34m(\u001b[0m\u001b[0mindex\u001b[0m\u001b[0;34m,\u001b[0m \u001b[0mpredictions\u001b[0m\u001b[0;34m)\u001b[0m\u001b[0;34m)\u001b[0m\u001b[0;34m)\u001b[0m\u001b[0;34m\u001b[0m\u001b[0;34m\u001b[0m\u001b[0m\n",
            "\u001b[0;31mNameError\u001b[0m: name 'clasifier2' is not defined"
          ]
        }
      ]
    },
    {
      "cell_type": "code",
      "source": [],
      "metadata": {
        "id": "wZZMGB9WDrxQ"
      },
      "execution_count": null,
      "outputs": []
    },
    {
      "cell_type": "code",
      "source": [],
      "metadata": {
        "id": "ehaCKDf5Dr3u"
      },
      "execution_count": null,
      "outputs": []
    },
    {
      "cell_type": "code",
      "source": [],
      "metadata": {
        "id": "v_Vgp_ajDr9N"
      },
      "execution_count": null,
      "outputs": []
    },
    {
      "cell_type": "code",
      "source": [],
      "metadata": {
        "id": "3mgG3yhrDsDn"
      },
      "execution_count": null,
      "outputs": []
    },
    {
      "cell_type": "code",
      "source": [],
      "metadata": {
        "id": "w-pcS7ORDsJ-"
      },
      "execution_count": null,
      "outputs": []
    },
    {
      "cell_type": "code",
      "source": [
        "!pip3 install fuzzymatcher"
      ],
      "metadata": {
        "colab": {
          "base_uri": "https://localhost:8080/"
        },
        "id": "18Uv-wH35V18",
        "outputId": "fa41db34-5e17-4d4c-a7bc-c2f8afaea174"
      },
      "execution_count": null,
      "outputs": [
        {
          "output_type": "stream",
          "name": "stdout",
          "text": [
            "Collecting fuzzymatcher\n",
            "  Downloading fuzzymatcher-0.0.6-py3-none-any.whl (15 kB)\n",
            "Requirement already satisfied: pandas in /usr/local/lib/python3.10/dist-packages (from fuzzymatcher) (1.5.3)\n",
            "Collecting metaphone (from fuzzymatcher)\n",
            "  Downloading Metaphone-0.6.tar.gz (14 kB)\n",
            "  Preparing metadata (setup.py) ... \u001b[?25l\u001b[?25hdone\n",
            "Collecting python-Levenshtein (from fuzzymatcher)\n",
            "  Downloading python_Levenshtein-0.21.1-py3-none-any.whl (9.4 kB)\n",
            "Collecting rapidfuzz (from fuzzymatcher)\n",
            "  Downloading rapidfuzz-3.2.0-cp310-cp310-manylinux_2_17_x86_64.manylinux2014_x86_64.whl (3.1 MB)\n",
            "\u001b[2K     \u001b[90m━━━━━━━━━━━━━━━━━━━━━━━━━━━━━━━━━━━━━━━━\u001b[0m \u001b[32m3.1/3.1 MB\u001b[0m \u001b[31m25.9 MB/s\u001b[0m eta \u001b[36m0:00:00\u001b[0m\n",
            "\u001b[?25hRequirement already satisfied: python-dateutil in /usr/local/lib/python3.10/dist-packages (from fuzzymatcher) (2.8.2)\n",
            "Requirement already satisfied: pytz>=2020.1 in /usr/local/lib/python3.10/dist-packages (from pandas->fuzzymatcher) (2023.3)\n",
            "Requirement already satisfied: numpy>=1.21.0 in /usr/local/lib/python3.10/dist-packages (from pandas->fuzzymatcher) (1.23.5)\n",
            "Requirement already satisfied: six>=1.5 in /usr/local/lib/python3.10/dist-packages (from python-dateutil->fuzzymatcher) (1.16.0)\n",
            "Collecting Levenshtein==0.21.1 (from python-Levenshtein->fuzzymatcher)\n",
            "  Downloading Levenshtein-0.21.1-cp310-cp310-manylinux_2_17_x86_64.manylinux2014_x86_64.whl (172 kB)\n",
            "\u001b[2K     \u001b[90m━━━━━━━━━━━━━━━━━━━━━━━━━━━━━━━━━━━━━━\u001b[0m \u001b[32m172.5/172.5 kB\u001b[0m \u001b[31m13.9 MB/s\u001b[0m eta \u001b[36m0:00:00\u001b[0m\n",
            "\u001b[?25hBuilding wheels for collected packages: metaphone\n",
            "  Building wheel for metaphone (setup.py) ... \u001b[?25l\u001b[?25hdone\n",
            "  Created wheel for metaphone: filename=Metaphone-0.6-py3-none-any.whl size=13901 sha256=caebd0754f55ba977450741fc7071daaaa2a78e2f93cea72d7a525f2e0fe20e5\n",
            "  Stored in directory: /root/.cache/pip/wheels/23/dd/1d/6cdd346605db62bde1f60954155e9ce48f4681c243f265b704\n",
            "Successfully built metaphone\n",
            "Installing collected packages: metaphone, rapidfuzz, Levenshtein, python-Levenshtein, fuzzymatcher\n",
            "Successfully installed Levenshtein-0.21.1 fuzzymatcher-0.0.6 metaphone-0.6 python-Levenshtein-0.21.1 rapidfuzz-3.2.0\n"
          ]
        }
      ]
    },
    {
      "cell_type": "markdown",
      "source": [],
      "metadata": {
        "id": "Cdo3NVe35Z3S"
      }
    },
    {
      "cell_type": "code",
      "source": [
        "import pandas as pd\n",
        "from pathlib import Path\n",
        "import fuzzymatcher\n",
        "fuzzyTrain= TrainData\n",
        "fuzzyOrig = originalDataT"
      ],
      "metadata": {
        "id": "8RY7mR78plnR"
      },
      "execution_count": null,
      "outputs": []
    },
    {
      "cell_type": "code",
      "source": [
        "left_on = ['First Name', 'Last Name','Address Line 1','City', 'State', 'Zip', 'DOB']\n",
        "\n",
        "right_on = [ 'first_name', 'last_name','addr 1', 'city', 'state', 'zip', 'DOB'\n",
        "]"
      ],
      "metadata": {
        "id": "u2fQxNzL6yWZ"
      },
      "execution_count": null,
      "outputs": []
    },
    {
      "cell_type": "code",
      "source": [
        "matched_results = fuzzymatcher.fuzzy_left_join(fuzzyTrain,\n",
        "                                            fuzzyOrig ,\n",
        "                                            left_on,\n",
        "                                            right_on,\n",
        "                                                left_id_col='Cust ID',\n",
        "                                            right_id_col='id'\n",
        "                                            )\n",
        "\n"
      ],
      "metadata": {
        "id": "N55oX6Qn6yZ2"
      },
      "execution_count": null,
      "outputs": []
    },
    {
      "cell_type": "code",
      "source": [
        "result = matched_results[['Cust ID', 'id']]\n",
        "matchedAns = pd.MultiIndex.from_frame(result, names=['ID_1', 'ID_2'])"
      ],
      "metadata": {
        "id": "kQZoB-Gr7XRY"
      },
      "execution_count": null,
      "outputs": []
    },
    {
      "cell_type": "code",
      "source": [
        "print(matchedAns)"
      ],
      "metadata": {
        "colab": {
          "base_uri": "https://localhost:8080/"
        },
        "id": "QrNYRCg06ydX",
        "outputId": "6c7d73fa-15ca-4951-c067-57b7dfb03572"
      },
      "execution_count": null,
      "outputs": [
        {
          "output_type": "stream",
          "name": "stdout",
          "text": [
            "MultiIndex([('CustID_101',  1824),\n",
            "            ('CustID_102', 43207),\n",
            "            ('CustID_103', 27213),\n",
            "            ('CustID_104', 43210),\n",
            "            ('CustID_106', 43208),\n",
            "            ('CustID_107', 43210),\n",
            "            ('CustID_108',    35),\n",
            "            ('CustID_109',  4488),\n",
            "            ('CustID_110', 51646),\n",
            "            ('CustID_111', 39934),\n",
            "            ...\n",
            "            ('CustID_289', 66178),\n",
            "            ('CustID_290', 51606),\n",
            "            ('CustID_291',  8512),\n",
            "            ('CustID_292', 38655),\n",
            "            ('CustID_293', 52922),\n",
            "            ('CustID_294',  8513),\n",
            "            ('CustID_295', 52189),\n",
            "            ('CustID_296', 21308),\n",
            "            ('CustID_297', 48958),\n",
            "            ('CustID_298', 65240)],\n",
            "           names=['ID_1', 'ID_2'], length=160)\n"
          ]
        }
      ]
    },
    {
      "cell_type": "code",
      "source": [
        "print(TrainGT)"
      ],
      "metadata": {
        "colab": {
          "base_uri": "https://localhost:8080/"
        },
        "id": "m14c27lT6yg9",
        "outputId": "f23684f1-a035-4bb2-82fe-70bc1495303e"
      },
      "execution_count": null,
      "outputs": [
        {
          "output_type": "stream",
          "name": "stdout",
          "text": [
            "        Cust ID  Credit Bureau ID\n",
            "0    CustID_101              1824\n",
            "1    CustID_102             43207\n",
            "2    CustID_103             27213\n",
            "3    CustID_104             43208\n",
            "4    CustID_106             43209\n",
            "..          ...               ...\n",
            "155  CustID_294              8513\n",
            "156  CustID_295             52189\n",
            "157  CustID_296             21308\n",
            "158  CustID_297             48958\n",
            "159  CustID_298             65240\n",
            "\n",
            "[160 rows x 2 columns]\n"
          ]
        }
      ]
    },
    {
      "cell_type": "code",
      "source": [
        "print(\"precision: \" + str(recordlinkage.precision(index, matchedAns)))\n",
        "print(\"recall: \" + str(recordlinkage.recall(index, matchedAns)))"
      ],
      "metadata": {
        "colab": {
          "base_uri": "https://localhost:8080/"
        },
        "id": "dIBxJ4GC6ykp",
        "outputId": "10a7029e-7604-4ab2-9808-02bbeed9a833"
      },
      "execution_count": null,
      "outputs": [
        {
          "output_type": "stream",
          "name": "stdout",
          "text": [
            "precision: 0.825\n",
            "recall: 0.825\n"
          ]
        }
      ]
    },
    {
      "cell_type": "code",
      "source": [
        "matched_results = fuzzymatcher.fuzzy_left_join(TestData,\n",
        "                                            fuzzyOrig ,\n",
        "                                            left_on,\n",
        "                                            right_on,\n",
        "                                                left_id_col='Cust ID',\n",
        "                                            right_id_col='id'\n",
        "                                            )\n"
      ],
      "metadata": {
        "id": "fC_sxiPDplqY"
      },
      "execution_count": null,
      "outputs": []
    },
    {
      "cell_type": "code",
      "source": [
        "result = matched_results[['Cust ID', 'id']]\n",
        "matchedAns = pd.MultiIndex.from_frame(result, names=['ID_1', 'ID_2'])\n",
        "indexTest = pd.MultiIndex.from_frame(TestGT, names=['ID_1', 'ID_2'])\n",
        "print(\"precision: \" + str(recordlinkage.precision(indexTest, matchedAns)))\n",
        "print(\"recall: \" + str(recordlinkage.recall(indexTest, matchedAns)))"
      ],
      "metadata": {
        "id": "rgEQxXLspltd",
        "colab": {
          "base_uri": "https://localhost:8080/"
        },
        "outputId": "141ce5ea-cadf-4b55-bd52-ea51257900a2"
      },
      "execution_count": null,
      "outputs": [
        {
          "output_type": "stream",
          "name": "stdout",
          "text": [
            "precision: 0.9814814814814815\n",
            "recall: 0.9814814814814815\n"
          ]
        }
      ]
    },
    {
      "cell_type": "code",
      "source": [
        "matchedAns\n",
        "import csv\n",
        "with open('/content/fuzzyTest.csv', mode='w', newline='') as file:\n",
        "    writer = csv.writer(file)\n",
        "    writer.writerows(matchedAns)"
      ],
      "metadata": {
        "id": "pLAZkQM4plwp"
      },
      "execution_count": null,
      "outputs": []
    },
    {
      "cell_type": "code",
      "source": [
        "matched_results = fuzzymatcher.fuzzy_left_join(Val,\n",
        "                                            fuzzyOrig ,\n",
        "                                            left_on,\n",
        "                                            right_on,\n",
        "                                                left_id_col='Cust ID',\n",
        "                                            right_id_col='id'\n",
        "                                            )\n"
      ],
      "metadata": {
        "id": "1TvxC9Vipl0P"
      },
      "execution_count": null,
      "outputs": []
    },
    {
      "cell_type": "code",
      "source": [
        "result = matched_results[['Cust ID', 'id']]\n",
        "matchedAns = pd.MultiIndex.from_frame(result, names=['ID_1', 'ID_2'])"
      ],
      "metadata": {
        "id": "JBeRG-IWE0dS"
      },
      "execution_count": null,
      "outputs": []
    },
    {
      "cell_type": "code",
      "source": [
        "with open('/content/fuzzyVal.csv', mode='w', newline='') as file:\n",
        "    writer = csv.writer(file)\n",
        "    writer.writerows(matchedAns)"
      ],
      "metadata": {
        "id": "rz7KAW3vE27Z"
      },
      "execution_count": null,
      "outputs": []
    },
    {
      "cell_type": "code",
      "source": [],
      "metadata": {
        "id": "CaX4KiYdgg7V"
      },
      "execution_count": null,
      "outputs": []
    }
  ]
}